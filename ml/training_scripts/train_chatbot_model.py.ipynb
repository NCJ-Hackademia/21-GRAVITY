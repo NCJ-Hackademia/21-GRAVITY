{
 "cells": [
  {
   "cell_type": "code",
   "execution_count": 1,
   "id": "4b495b97-42c9-462d-ab3c-5e1084d295aa",
   "metadata": {},
   "outputs": [
    {
     "name": "stdout",
     "output_type": "stream",
     "text": [
      "<class 'pandas.core.frame.DataFrame'>\n",
      "RangeIndex: 150 entries, 0 to 149\n",
      "Data columns (total 2 columns):\n",
      " #   Column    Non-Null Count  Dtype \n",
      "---  ------    --------------  ----- \n",
      " 0   question  150 non-null    object\n",
      " 1   answer    150 non-null    object\n",
      "dtypes: object(2)\n",
      "memory usage: 2.5+ KB\n"
     ]
    },
    {
     "data": {
      "text/plain": [
       "(None,\n",
       "                                             question  \\\n",
       " 0  What are the signs of postpartum depression? (v1)   \n",
       " 1  What foods should I avoid while breastfeeding?...   \n",
       " 2  What are common causes of postpartum fatigue? ...   \n",
       " 3  Is it normal to have hair loss after pregnancy...   \n",
       " 4            What are the symptoms of mastitis? (v1)   \n",
       " \n",
       "                                               answer  \n",
       " 0  Signs include persistent sadness, fatigue, fee...  \n",
       " 1  Avoid high-mercury fish, excessive caffeine, a...  \n",
       " 2  Hormonal changes, sleep deprivation, blood los...  \n",
       " 3  Yes, postpartum hair loss is common due to hor...  \n",
       " 4  Symptoms include breast pain, swelling, rednes...  )"
      ]
     },
     "execution_count": 1,
     "metadata": {},
     "output_type": "execute_result"
    }
   ],
   "source": [
    "import pandas as pd\n",
    "\n",
    "# Reload the postpartum dataset after environment reset\n",
    "file_path = 'postpartum_diverse_dataset.csv'\n",
    "df = pd.read_csv(file_path)\n",
    "\n",
    "# Display basic info\n",
    "df.info(), df.head()\n"
   ]
  },
  {
   "cell_type": "code",
   "execution_count": null,
   "id": "44a7e92d-d6dc-4717-aef1-b695733a4eba",
   "metadata": {},
   "outputs": [
    {
     "name": "stdout",
     "output_type": "stream",
     "text": [
      "Requirement already satisfied: transformers in c:\\users\\varshitha  n s\\anaconda3\\lib\\site-packages (4.52.3)\n",
      "Requirement already satisfied: datasets in c:\\users\\varshitha  n s\\anaconda3\\lib\\site-packages (3.6.0)\n",
      "Collecting faiss-cpu\n",
      "  Downloading faiss_cpu-1.11.0-cp312-cp312-win_amd64.whl.metadata (5.0 kB)\n",
      "Collecting sentence-transformers\n",
      "  Downloading sentence_transformers-4.1.0-py3-none-any.whl.metadata (13 kB)\n",
      "Requirement already satisfied: filelock in c:\\users\\varshitha  n s\\anaconda3\\lib\\site-packages (from transformers) (3.13.1)\n",
      "Requirement already satisfied: huggingface-hub<1.0,>=0.30.0 in c:\\users\\varshitha  n s\\anaconda3\\lib\\site-packages (from transformers) (0.32.2)\n",
      "Requirement already satisfied: numpy>=1.17 in c:\\users\\varshitha  n s\\anaconda3\\lib\\site-packages (from transformers) (1.26.4)\n",
      "Requirement already satisfied: packaging>=20.0 in c:\\users\\varshitha  n s\\anaconda3\\lib\\site-packages (from transformers) (24.1)\n",
      "Requirement already satisfied: pyyaml>=5.1 in c:\\users\\varshitha  n s\\appdata\\roaming\\python\\python312\\site-packages (from transformers) (6.0.2)\n",
      "Requirement already satisfied: regex!=2019.12.17 in c:\\users\\varshitha  n s\\appdata\\roaming\\python\\python312\\site-packages (from transformers) (2024.11.6)\n",
      "Requirement already satisfied: requests in c:\\users\\varshitha  n s\\anaconda3\\lib\\site-packages (from transformers) (2.32.3)\n",
      "Requirement already satisfied: tokenizers<0.22,>=0.21 in c:\\users\\varshitha  n s\\appdata\\roaming\\python\\python312\\site-packages (from transformers) (0.21.1)\n",
      "Requirement already satisfied: safetensors>=0.4.3 in c:\\users\\varshitha  n s\\appdata\\roaming\\python\\python312\\site-packages (from transformers) (0.5.3)\n",
      "Requirement already satisfied: tqdm>=4.27 in c:\\users\\varshitha  n s\\appdata\\roaming\\python\\python312\\site-packages (from transformers) (4.67.1)\n",
      "Requirement already satisfied: fsspec>=2023.5.0 in c:\\users\\varshitha  n s\\appdata\\roaming\\python\\python312\\site-packages (from huggingface-hub<1.0,>=0.30.0->transformers) (2025.3.0)\n",
      "Requirement already satisfied: typing-extensions>=3.7.4.3 in c:\\users\\varshitha  n s\\appdata\\roaming\\python\\python312\\site-packages (from huggingface-hub<1.0,>=0.30.0->transformers) (4.12.2)\n",
      "Requirement already satisfied: pyarrow>=15.0.0 in c:\\users\\varshitha  n s\\appdata\\roaming\\python\\python312\\site-packages (from datasets) (19.0.1)\n",
      "Requirement already satisfied: dill<0.3.9,>=0.3.0 in c:\\users\\varshitha  n s\\anaconda3\\lib\\site-packages (from datasets) (0.3.8)\n",
      "Requirement already satisfied: pandas in c:\\users\\varshitha  n s\\anaconda3\\lib\\site-packages (from datasets) (2.2.2)\n",
      "Requirement already satisfied: xxhash in c:\\users\\varshitha  n s\\anaconda3\\lib\\site-packages (from datasets) (3.5.0)\n",
      "Requirement already satisfied: multiprocess<0.70.17 in c:\\users\\varshitha  n s\\anaconda3\\lib\\site-packages (from datasets) (0.70.16)\n",
      "Requirement already satisfied: aiohttp!=4.0.0a0,!=4.0.0a1 in c:\\users\\varshitha  n s\\anaconda3\\lib\\site-packages (from fsspec[http]<=2025.3.0,>=2023.1.0->datasets) (3.10.5)\n",
      "Requirement already satisfied: torch>=1.11.0 in c:\\users\\varshitha  n s\\appdata\\roaming\\python\\python312\\site-packages (from sentence-transformers) (2.6.0)\n",
      "Requirement already satisfied: scikit-learn in c:\\users\\varshitha  n s\\anaconda3\\lib\\site-packages (from sentence-transformers) (1.5.1)\n",
      "Requirement already satisfied: scipy in c:\\users\\varshitha  n s\\anaconda3\\lib\\site-packages (from sentence-transformers) (1.13.1)\n",
      "Requirement already satisfied: Pillow in c:\\users\\varshitha  n s\\anaconda3\\lib\\site-packages (from sentence-transformers) (10.4.0)\n",
      "Requirement already satisfied: aiohappyeyeballs>=2.3.0 in c:\\users\\varshitha  n s\\anaconda3\\lib\\site-packages (from aiohttp!=4.0.0a0,!=4.0.0a1->fsspec[http]<=2025.3.0,>=2023.1.0->datasets) (2.4.0)\n",
      "Requirement already satisfied: aiosignal>=1.1.2 in c:\\users\\varshitha  n s\\anaconda3\\lib\\site-packages (from aiohttp!=4.0.0a0,!=4.0.0a1->fsspec[http]<=2025.3.0,>=2023.1.0->datasets) (1.2.0)\n",
      "Requirement already satisfied: attrs>=17.3.0 in c:\\users\\varshitha  n s\\appdata\\roaming\\python\\python312\\site-packages (from aiohttp!=4.0.0a0,!=4.0.0a1->fsspec[http]<=2025.3.0,>=2023.1.0->datasets) (24.2.0)\n",
      "Requirement already satisfied: frozenlist>=1.1.1 in c:\\users\\varshitha  n s\\anaconda3\\lib\\site-packages (from aiohttp!=4.0.0a0,!=4.0.0a1->fsspec[http]<=2025.3.0,>=2023.1.0->datasets) (1.4.0)\n",
      "Requirement already satisfied: multidict<7.0,>=4.5 in c:\\users\\varshitha  n s\\anaconda3\\lib\\site-packages (from aiohttp!=4.0.0a0,!=4.0.0a1->fsspec[http]<=2025.3.0,>=2023.1.0->datasets) (6.0.4)\n",
      "Requirement already satisfied: yarl<2.0,>=1.0 in c:\\users\\varshitha  n s\\anaconda3\\lib\\site-packages (from aiohttp!=4.0.0a0,!=4.0.0a1->fsspec[http]<=2025.3.0,>=2023.1.0->datasets) (1.11.0)\n",
      "Requirement already satisfied: idna>=2.0 in c:\\users\\varshitha  n s\\anaconda3\\lib\\site-packages (from yarl<2.0,>=1.0->aiohttp!=4.0.0a0,!=4.0.0a1->fsspec[http]<=2025.3.0,>=2023.1.0->datasets) (3.7)\n",
      "Requirement already satisfied: charset-normalizer<4,>=2 in c:\\users\\varshitha  n s\\anaconda3\\lib\\site-packages (from requests->transformers) (3.3.2)\n",
      "Requirement already satisfied: urllib3<3,>=1.21.1 in c:\\users\\varshitha  n s\\anaconda3\\lib\\site-packages (from requests->transformers) (2.2.3)\n",
      "Requirement already satisfied: certifi>=2017.4.17 in c:\\users\\varshitha  n s\\anaconda3\\lib\\site-packages (from requests->transformers) (2024.8.30)\n",
      "Requirement already satisfied: networkx in c:\\users\\varshitha  n s\\appdata\\roaming\\python\\python312\\site-packages (from torch>=1.11.0->sentence-transformers) (3.4.2)\n",
      "Requirement already satisfied: jinja2 in c:\\users\\varshitha  n s\\appdata\\roaming\\python\\python312\\site-packages (from torch>=1.11.0->sentence-transformers) (3.1.6)\n",
      "Requirement already satisfied: setuptools in c:\\users\\varshitha  n s\\anaconda3\\lib\\site-packages (from torch>=1.11.0->sentence-transformers) (80.9.0)\n",
      "Requirement already satisfied: sympy==1.13.1 in c:\\users\\varshitha  n s\\appdata\\roaming\\python\\python312\\site-packages (from torch>=1.11.0->sentence-transformers) (1.13.1)\n",
      "Requirement already satisfied: mpmath<1.4,>=1.1.0 in c:\\users\\varshitha  n s\\appdata\\roaming\\python\\python312\\site-packages (from sympy==1.13.1->torch>=1.11.0->sentence-transformers) (1.3.0)\n",
      "Requirement already satisfied: colorama in c:\\users\\varshitha  n s\\appdata\\roaming\\python\\python312\\site-packages (from tqdm>=4.27->transformers) (0.4.6)\n",
      "Requirement already satisfied: MarkupSafe>=2.0 in c:\\users\\varshitha  n s\\appdata\\roaming\\python\\python312\\site-packages (from jinja2->torch>=1.11.0->sentence-transformers) (3.0.2)\n",
      "Requirement already satisfied: python-dateutil>=2.8.2 in c:\\users\\varshitha  n s\\anaconda3\\lib\\site-packages (from pandas->datasets) (2.9.0.post0)\n",
      "Requirement already satisfied: pytz>=2020.1 in c:\\users\\varshitha  n s\\anaconda3\\lib\\site-packages (from pandas->datasets) (2024.1)\n",
      "Requirement already satisfied: tzdata>=2022.7 in c:\\users\\varshitha  n s\\anaconda3\\lib\\site-packages (from pandas->datasets) (2023.3)\n",
      "Requirement already satisfied: six>=1.5 in c:\\users\\varshitha  n s\\anaconda3\\lib\\site-packages (from python-dateutil>=2.8.2->pandas->datasets) (1.16.0)\n",
      "Requirement already satisfied: joblib>=1.2.0 in c:\\users\\varshitha  n s\\anaconda3\\lib\\site-packages (from scikit-learn->sentence-transformers) (1.4.2)\n",
      "Requirement already satisfied: threadpoolctl>=3.1.0 in c:\\users\\varshitha  n s\\anaconda3\\lib\\site-packages (from scikit-learn->sentence-transformers) (3.5.0)\n",
      "Downloading faiss_cpu-1.11.0-cp312-cp312-win_amd64.whl (15.0 MB)\n",
      "   ---------------------------------------- 0.0/15.0 MB ? eta -:--:--\n",
      "    --------------------------------------- 0.3/15.0 MB ? eta -:--:--\n",
      "   --- ------------------------------------ 1.3/15.0 MB 5.6 MB/s eta 0:00:03\n",
      "   ------ --------------------------------- 2.4/15.0 MB 5.2 MB/s eta 0:00:03\n",
      "   --------- ------------------------------ 3.4/15.0 MB 5.2 MB/s eta 0:00:03\n",
      "   -------------- ------------------------- 5.5/15.0 MB 5.7 MB/s eta 0:00:02\n",
      "   ---------------- ----------------------- 6.3/15.0 MB 5.4 MB/s eta 0:00:02\n",
      "   --------------------- ------------------ 8.1/15.0 MB 5.9 MB/s eta 0:00:02\n",
      "   ----------------------- ---------------- 8.9/15.0 MB 5.6 MB/s eta 0:00:02\n",
      "   ------------------------------ --------- 11.3/15.0 MB 6.2 MB/s eta 0:00:01\n",
      "   --------------------------------- ------ 12.6/15.0 MB 6.2 MB/s eta 0:00:01\n",
      "   ----------------------------------- ---- 13.4/15.0 MB 5.9 MB/s eta 0:00:01\n",
      "   ---------------------------------------- 15.0/15.0 MB 6.2 MB/s eta 0:00:00\n",
      "Downloading sentence_transformers-4.1.0-py3-none-any.whl (345 kB)\n",
      "Installing collected packages: faiss-cpu, sentence-transformers\n",
      "\n",
      "   ---------------------------------------- 0/2 [faiss-cpu]\n",
      "   ---------------------------------------- 0/2 [faiss-cpu]\n",
      "   ---------------------------------------- 0/2 [faiss-cpu]\n",
      "   ---------------------------------------- 0/2 [faiss-cpu]\n",
      "   ---------------------------------------- 0/2 [faiss-cpu]\n",
      "   ---------------------------------------- 0/2 [faiss-cpu]\n",
      "   ---------------------------------------- 0/2 [faiss-cpu]\n",
      "   -------------------- ------------------- 1/2 [sentence-transformers]\n",
      "   -------------------- ------------------- 1/2 [sentence-transformers]\n",
      "   -------------------- ------------------- 1/2 [sentence-transformers]\n",
      "   -------------------- ------------------- 1/2 [sentence-transformers]\n",
      "   -------------------- ------------------- 1/2 [sentence-transformers]\n",
      "   ---------------------------------------- 2/2 [sentence-transformers]\n",
      "\n",
      "Successfully installed faiss-cpu-1.11.0 sentence-transformers-4.1.0\n"
     ]
    }
   ],
   "source": [
    "%pip install transformers datasets faiss-cpu sentence-transformers\n"
   ]
  },
  {
   "cell_type": "code",
   "execution_count": 5,
   "id": "b287077c-fb0f-4a27-bb1c-45ee7a3b1a49",
   "metadata": {},
   "outputs": [
    {
     "name": "stdout",
     "output_type": "stream",
     "text": [
      "WARNING:tensorflow:From C:\\Users\\Varshitha  N S\\AppData\\Roaming\\Python\\Python312\\site-packages\\tf_keras\\src\\losses.py:2976: The name tf.losses.sparse_softmax_cross_entropy is deprecated. Please use tf.compat.v1.losses.sparse_softmax_cross_entropy instead.\n",
      "\n"
     ]
    }
   ],
   "source": [
    "from sentence_transformers import SentenceTransformer\n",
    "import faiss\n",
    "import numpy as np\n",
    "\n",
    "# Use a pre-trained model to encode text\n",
    "encoder = SentenceTransformer(\"all-MiniLM-L6-v2\")\n",
    "\n",
    "# Convert questions into embeddings\n",
    "question_embeddings = encoder.encode(df[\"question\"].tolist(), convert_to_numpy=True)\n",
    "\n",
    "# Create FAISS index for fast similarity search\n",
    "index = faiss.IndexFlatL2(question_embeddings.shape[1])\n",
    "index.add(question_embeddings)\n"
   ]
  },
  {
   "cell_type": "code",
   "execution_count": 7,
   "id": "147fcbd2-1a52-4cad-8f9e-00770fb8e590",
   "metadata": {},
   "outputs": [
    {
     "data": {
      "application/vnd.jupyter.widget-view+json": {
       "model_id": "068a3190c92a4a85982c401b3e72c48f",
       "version_major": 2,
       "version_minor": 0
      },
      "text/plain": [
       "tokenizer_config.json:   0%|          | 0.00/2.54k [00:00<?, ?B/s]"
      ]
     },
     "metadata": {},
     "output_type": "display_data"
    },
    {
     "name": "stderr",
     "output_type": "stream",
     "text": [
      "Xet Storage is enabled for this repo, but the 'REDACTEDxet' package is not installed. Falling back to regular HTTP download. For better performance, install the package with: `pip install huggingface_hub[REDACTEDxet]` or `pip install REDACTEDxet`\n"
     ]
    },
    {
     "data": {
      "application/vnd.jupyter.widget-view+json": {
       "model_id": "243d3dd99a31421d8e00aaf313092d5a",
       "version_major": 2,
       "version_minor": 0
      },
      "text/plain": [
       "spiece.model:   0%|          | 0.00/792k [00:00<?, ?B/s]"
      ]
     },
     "metadata": {},
     "output_type": "display_data"
    },
    {
     "data": {
      "application/vnd.jupyter.widget-view+json": {
       "model_id": "2dbb64a368304ca983ba8d8ae01f81d3",
       "version_major": 2,
       "version_minor": 0
      },
      "text/plain": [
       "tokenizer.json:   0%|          | 0.00/2.42M [00:00<?, ?B/s]"
      ]
     },
     "metadata": {},
     "output_type": "display_data"
    },
    {
     "data": {
      "application/vnd.jupyter.widget-view+json": {
       "model_id": "573e6e3bfded498585fa24baa47b2c2a",
       "version_major": 2,
       "version_minor": 0
      },
      "text/plain": [
       "special_tokens_map.json:   0%|          | 0.00/2.20k [00:00<?, ?B/s]"
      ]
     },
     "metadata": {},
     "output_type": "display_data"
    },
    {
     "data": {
      "application/vnd.jupyter.widget-view+json": {
       "model_id": "ea36ba6e634e432bace2bfec05bd3e33",
       "version_major": 2,
       "version_minor": 0
      },
      "text/plain": [
       "config.json:   0%|          | 0.00/1.40k [00:00<?, ?B/s]"
      ]
     },
     "metadata": {},
     "output_type": "display_data"
    },
    {
     "name": "stderr",
     "output_type": "stream",
     "text": [
      "Xet Storage is enabled for this repo, but the 'REDACTEDxet' package is not installed. Falling back to regular HTTP download. For better performance, install the package with: `pip install huggingface_hub[REDACTEDxet]` or `pip install REDACTEDxet`\n"
     ]
    },
    {
     "data": {
      "application/vnd.jupyter.widget-view+json": {
       "model_id": "c4f9b63417cf4540a15d6eccba6970b0",
       "version_major": 2,
       "version_minor": 0
      },
      "text/plain": [
       "model.safetensors:   0%|          | 0.00/990M [00:00<?, ?B/s]"
      ]
     },
     "metadata": {},
     "output_type": "display_data"
    },
    {
     "data": {
      "application/vnd.jupyter.widget-view+json": {
       "model_id": "2ad23c4102a947629d6cdcf9a5807258",
       "version_major": 2,
       "version_minor": 0
      },
      "text/plain": [
       "generation_config.json:   0%|          | 0.00/147 [00:00<?, ?B/s]"
      ]
     },
     "metadata": {},
     "output_type": "display_data"
    }
   ],
   "source": [
    "from transformers import AutoTokenizer, AutoModelForSeq2SeqLM\n",
    "\n",
    "GEN_MODEL_NAME = \"google/flan-t5-base\"  # Lightweight and fast\n",
    "gen_tokenizer = AutoTokenizer.from_pretrained(GEN_MODEL_NAME)\n",
    "gen_model = AutoModelForSeq2SeqLM.from_pretrained(GEN_MODEL_NAME)\n"
   ]
  },
  {
   "cell_type": "code",
   "execution_count": 15,
   "id": "0cf951c1-96cd-41fe-871c-e9752f98832f",
   "metadata": {},
   "outputs": [],
   "source": [
    "def rag_chatbot(user_question, top_k=3, similarity_threshold=0.6):\n",
    "    # Encode and search\n",
    "    query_embedding = encoder.encode([user_question], convert_to_numpy=True)\n",
    "    distances, top_indices = index.search(query_embedding, top_k)\n",
    "\n",
    "    # Calculate cosine similarity (assuming embeddings are normalized)\n",
    "    similarities = 1 - distances[0] / 2  # approximation for normalized vectors\n",
    "\n",
    "    # Check if best match is relevant\n",
    "    if similarities[0] < similarity_threshold:\n",
    "        return \"I'm sorry, I don't have enough information to answer that.\"\n",
    "\n",
    "    # Else continue as normal\n",
    "    context = \"\\n\".join(df[\"answer\"].iloc[i] for i in top_indices[0])\n",
    "    prompt = f\"Context: {context}\\n\\nQuestion: {user_question}\\nAnswer:\"\n",
    "    inputs = gen_tokenizer(prompt, return_tensors=\"pt\", truncation=True)\n",
    "    output = gen_model.generate(**inputs, max_length=150)\n",
    "    return gen_tokenizer.decode(output[0], skip_special_tokens=True)\n"
   ]
  },
  {
   "cell_type": "code",
   "execution_count": 25,
   "id": "a6ae18a0-baca-4536-bd22-bb00a7543804",
   "metadata": {},
   "outputs": [],
   "source": [
    "def rag_chatbot(user_question, top_k=3):\n",
    "    # Embed user question\n",
    "    query_embedding = encoder.encode([user_question], convert_to_numpy=True)\n",
    "\n",
    "    # Search similar questions in the index\n",
    "    _, top_indices = index.search(query_embedding, top_k)\n",
    "    \n",
    "    # Combine top-k retrieved answers as context\n",
    "    context = \"\\n\".join(df[\"answer\"].iloc[i] for i in top_indices[0])\n",
    "    \n",
    "    # Prepare the prompt for the generative model\n",
    "    prompt = f\"Context: {context}\\n\\nQuestion: {user_question}\\nAnswer:\"\n",
    "    \n",
    "    inputs = gen_tokenizer(prompt, return_tensors=\"pt\", truncation=True)\n",
    "    output = gen_model.generate(**inputs, max_length=150)\n",
    "    \n",
    "    return gen_tokenizer.decode(output[0], skip_special_tokens=True)\n"
   ]
  },
  {
   "cell_type": "code",
   "execution_count": 29,
   "id": "7e16feca-6b51-4124-8d5c-e108cf5380b1",
   "metadata": {},
   "outputs": [
    {
     "name": "stdout",
     "output_type": "stream",
     "text": [
      "🤖 high-mercury fish, excessive caffeine, and alcohol\n"
     ]
    }
   ],
   "source": [
    "user_q = \" What foods should I avoid while breastfeeding?\"\n",
    "response = rag_chatbot(user_q)\n",
    "print(\"🤖\", response)\n"
   ]
  },
  {
   "cell_type": "code",
   "execution_count": null,
   "id": "47bc717d-e438-4f24-852a-75ce68a40ea6",
   "metadata": {},
   "outputs": [],
   "source": []
  }
 ],
 "metadata": {
  "kernelspec": {
   "display_name": "Python 3 (ipykernel)",
   "language": "python",
   "name": "python3"
  },
  "language_info": {
   "codemirror_mode": {
    "name": "ipython",
    "version": 3
   },
   "file_extension": ".py",
   "mimetype": "text/x-python",
   "name": "python",
   "nbconvert_exporter": "python",
   "pygments_lexer": "ipython3",
   "version": "3.12.7"
  }
 },
 "nbformat": 4,
 "nbformat_minor": 5
}
